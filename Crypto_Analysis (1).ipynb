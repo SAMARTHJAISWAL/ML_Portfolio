{
  "nbformat": 4,
  "nbformat_minor": 0,
  "metadata": {
    "colab": {
      "provenance": []
    },
    "kernelspec": {
      "name": "python3",
      "display_name": "Python 3"
    },
    "language_info": {
      "name": "python"
    }
  },
  "cells": [
    {
      "cell_type": "code",
      "execution_count": null,
      "metadata": {
        "id": "lUycC0cCg6uN"
      },
      "outputs": [],
      "source": [
        "import pandas as pd\n",
        "\n"
      ]
    },
    {
      "cell_type": "code",
      "source": [
        "ctrain = pd.read_csv('/content/drive/MyDrive/ETH-USD.csv')\n"
      ],
      "metadata": {
        "id": "81kKmFtPh0v9"
      },
      "execution_count": null,
      "outputs": []
    },
    {
      "cell_type": "code",
      "source": [
        "ctrain.head()\n"
      ],
      "metadata": {
        "colab": {
          "base_uri": "https://localhost:8080/",
          "height": 206
        },
        "id": "_JxGYVnqiENJ",
        "outputId": "b71b444b-c056-4b14-fcca-857383386225"
      },
      "execution_count": null,
      "outputs": [
        {
          "output_type": "execute_result",
          "data": {
            "text/plain": [
              "         Date        Open        High         Low       Close   Adj Close  \\\n",
              "0  2017-11-09  308.644989  329.451996  307.056000  320.884003  320.884003   \n",
              "1  2017-11-10  320.670990  324.717987  294.541992  299.252991  299.252991   \n",
              "2  2017-11-11  298.585999  319.453003  298.191986  314.681000  314.681000   \n",
              "3  2017-11-12  314.690002  319.153015  298.513000  307.907990  307.907990   \n",
              "4  2017-11-13  307.024994  328.415009  307.024994  316.716003  316.716003   \n",
              "\n",
              "       Volume  \n",
              "0   893249984  \n",
              "1   885985984  \n",
              "2   842300992  \n",
              "3  1613479936  \n",
              "4  1041889984  "
            ],
            "text/html": [
              "\n",
              "  <div id=\"df-5e7d5986-bc60-4069-ac08-fe602dc2d202\">\n",
              "    <div class=\"colab-df-container\">\n",
              "      <div>\n",
              "<style scoped>\n",
              "    .dataframe tbody tr th:only-of-type {\n",
              "        vertical-align: middle;\n",
              "    }\n",
              "\n",
              "    .dataframe tbody tr th {\n",
              "        vertical-align: top;\n",
              "    }\n",
              "\n",
              "    .dataframe thead th {\n",
              "        text-align: right;\n",
              "    }\n",
              "</style>\n",
              "<table border=\"1\" class=\"dataframe\">\n",
              "  <thead>\n",
              "    <tr style=\"text-align: right;\">\n",
              "      <th></th>\n",
              "      <th>Date</th>\n",
              "      <th>Open</th>\n",
              "      <th>High</th>\n",
              "      <th>Low</th>\n",
              "      <th>Close</th>\n",
              "      <th>Adj Close</th>\n",
              "      <th>Volume</th>\n",
              "    </tr>\n",
              "  </thead>\n",
              "  <tbody>\n",
              "    <tr>\n",
              "      <th>0</th>\n",
              "      <td>2017-11-09</td>\n",
              "      <td>308.644989</td>\n",
              "      <td>329.451996</td>\n",
              "      <td>307.056000</td>\n",
              "      <td>320.884003</td>\n",
              "      <td>320.884003</td>\n",
              "      <td>893249984</td>\n",
              "    </tr>\n",
              "    <tr>\n",
              "      <th>1</th>\n",
              "      <td>2017-11-10</td>\n",
              "      <td>320.670990</td>\n",
              "      <td>324.717987</td>\n",
              "      <td>294.541992</td>\n",
              "      <td>299.252991</td>\n",
              "      <td>299.252991</td>\n",
              "      <td>885985984</td>\n",
              "    </tr>\n",
              "    <tr>\n",
              "      <th>2</th>\n",
              "      <td>2017-11-11</td>\n",
              "      <td>298.585999</td>\n",
              "      <td>319.453003</td>\n",
              "      <td>298.191986</td>\n",
              "      <td>314.681000</td>\n",
              "      <td>314.681000</td>\n",
              "      <td>842300992</td>\n",
              "    </tr>\n",
              "    <tr>\n",
              "      <th>3</th>\n",
              "      <td>2017-11-12</td>\n",
              "      <td>314.690002</td>\n",
              "      <td>319.153015</td>\n",
              "      <td>298.513000</td>\n",
              "      <td>307.907990</td>\n",
              "      <td>307.907990</td>\n",
              "      <td>1613479936</td>\n",
              "    </tr>\n",
              "    <tr>\n",
              "      <th>4</th>\n",
              "      <td>2017-11-13</td>\n",
              "      <td>307.024994</td>\n",
              "      <td>328.415009</td>\n",
              "      <td>307.024994</td>\n",
              "      <td>316.716003</td>\n",
              "      <td>316.716003</td>\n",
              "      <td>1041889984</td>\n",
              "    </tr>\n",
              "  </tbody>\n",
              "</table>\n",
              "</div>\n",
              "      <button class=\"colab-df-convert\" onclick=\"convertToInteractive('df-5e7d5986-bc60-4069-ac08-fe602dc2d202')\"\n",
              "              title=\"Convert this dataframe to an interactive table.\"\n",
              "              style=\"display:none;\">\n",
              "        \n",
              "  <svg xmlns=\"http://www.w3.org/2000/svg\" height=\"24px\"viewBox=\"0 0 24 24\"\n",
              "       width=\"24px\">\n",
              "    <path d=\"M0 0h24v24H0V0z\" fill=\"none\"/>\n",
              "    <path d=\"M18.56 5.44l.94 2.06.94-2.06 2.06-.94-2.06-.94-.94-2.06-.94 2.06-2.06.94zm-11 1L8.5 8.5l.94-2.06 2.06-.94-2.06-.94L8.5 2.5l-.94 2.06-2.06.94zm10 10l.94 2.06.94-2.06 2.06-.94-2.06-.94-.94-2.06-.94 2.06-2.06.94z\"/><path d=\"M17.41 7.96l-1.37-1.37c-.4-.4-.92-.59-1.43-.59-.52 0-1.04.2-1.43.59L10.3 9.45l-7.72 7.72c-.78.78-.78 2.05 0 2.83L4 21.41c.39.39.9.59 1.41.59.51 0 1.02-.2 1.41-.59l7.78-7.78 2.81-2.81c.8-.78.8-2.07 0-2.86zM5.41 20L4 18.59l7.72-7.72 1.47 1.35L5.41 20z\"/>\n",
              "  </svg>\n",
              "      </button>\n",
              "      \n",
              "  <style>\n",
              "    .colab-df-container {\n",
              "      display:flex;\n",
              "      flex-wrap:wrap;\n",
              "      gap: 12px;\n",
              "    }\n",
              "\n",
              "    .colab-df-convert {\n",
              "      background-color: #E8F0FE;\n",
              "      border: none;\n",
              "      border-radius: 50%;\n",
              "      cursor: pointer;\n",
              "      display: none;\n",
              "      fill: #1967D2;\n",
              "      height: 32px;\n",
              "      padding: 0 0 0 0;\n",
              "      width: 32px;\n",
              "    }\n",
              "\n",
              "    .colab-df-convert:hover {\n",
              "      background-color: #E2EBFA;\n",
              "      box-shadow: 0px 1px 2px rgba(60, 64, 67, 0.3), 0px 1px 3px 1px rgba(60, 64, 67, 0.15);\n",
              "      fill: #174EA6;\n",
              "    }\n",
              "\n",
              "    [theme=dark] .colab-df-convert {\n",
              "      background-color: #3B4455;\n",
              "      fill: #D2E3FC;\n",
              "    }\n",
              "\n",
              "    [theme=dark] .colab-df-convert:hover {\n",
              "      background-color: #434B5C;\n",
              "      box-shadow: 0px 1px 3px 1px rgba(0, 0, 0, 0.15);\n",
              "      filter: drop-shadow(0px 1px 2px rgba(0, 0, 0, 0.3));\n",
              "      fill: #FFFFFF;\n",
              "    }\n",
              "  </style>\n",
              "\n",
              "      <script>\n",
              "        const buttonEl =\n",
              "          document.querySelector('#df-5e7d5986-bc60-4069-ac08-fe602dc2d202 button.colab-df-convert');\n",
              "        buttonEl.style.display =\n",
              "          google.colab.kernel.accessAllowed ? 'block' : 'none';\n",
              "\n",
              "        async function convertToInteractive(key) {\n",
              "          const element = document.querySelector('#df-5e7d5986-bc60-4069-ac08-fe602dc2d202');\n",
              "          const dataTable =\n",
              "            await google.colab.kernel.invokeFunction('convertToInteractive',\n",
              "                                                     [key], {});\n",
              "          if (!dataTable) return;\n",
              "\n",
              "          const docLinkHtml = 'Like what you see? Visit the ' +\n",
              "            '<a target=\"_blank\" href=https://colab.research.google.com/notebooks/data_table.ipynb>data table notebook</a>'\n",
              "            + ' to learn more about interactive tables.';\n",
              "          element.innerHTML = '';\n",
              "          dataTable['output_type'] = 'display_data';\n",
              "          await google.colab.output.renderOutput(dataTable, element);\n",
              "          const docLink = document.createElement('div');\n",
              "          docLink.innerHTML = docLinkHtml;\n",
              "          element.appendChild(docLink);\n",
              "        }\n",
              "      </script>\n",
              "    </div>\n",
              "  </div>\n",
              "  "
            ]
          },
          "metadata": {},
          "execution_count": 5
        }
      ]
    },
    {
      "cell_type": "code",
      "source": [
        "import pandas as pd\n",
        "import numpy as np\n",
        "import xgboost as xgb\n",
        "from sklearn.model_selection import train_test_split\n",
        "from sklearn.metrics import mean_squared_error\n",
        "\n",
        "# Load the Ethereum dataset\n",
        "eth_data = pd.read_csv('/content/drive/MyDrive/ETH-USD.csv')\n",
        "\n",
        "# Select the relevant features for the model\n",
        "features = ['Open', 'High', 'Low', 'Volume']\n",
        "\n",
        "# Set the target variable\n",
        "target = 'Close'\n",
        "\n",
        "# Split the data into training and test sets\n",
        "X_train, X_test, y_train, y_test = train_test_split(eth_data[features], eth_data[target], test_size=0.2, random_state=42)\n",
        "\n",
        "# Initialize the XGBoost model\n",
        "model = xgb.XGBRegressor(objective ='reg:squarederror', colsample_bytree = 0.3, learning_rate = 0.1, max_depth = 5, alpha = 10, n_estimators = 100)\n",
        "\n",
        "# Fit the model to the training data\n",
        "model.fit(X_train, y_train)\n",
        "\n",
        "# Make predictions on the test data\n",
        "y_pred = model.predict(X_test)\n",
        "\n",
        "# Calculate the root mean squared error of the predictions\n",
        "rmse = np.sqrt(mean_squared_error(y_test, y_pred))\n",
        "print(\"RMSE: %f\" % (rmse))\n"
      ],
      "metadata": {
        "colab": {
          "base_uri": "https://localhost:8080/"
        },
        "id": "-P2LwNvklDl8",
        "outputId": "ff2d00b4-8db1-4f18-cf94-111e806aa4c3"
      },
      "execution_count": null,
      "outputs": [
        {
          "output_type": "stream",
          "name": "stdout",
          "text": [
            "RMSE: 105.189073\n"
          ]
        }
      ]
    },
    {
      "cell_type": "code",
      "source": [
        "print(y_pred)"
      ],
      "metadata": {
        "colab": {
          "base_uri": "https://localhost:8080/"
        },
        "id": "TNcDYb50lXKD",
        "outputId": "0493d76e-6d1d-4309-9f2b-edb38bb77ecc"
      },
      "execution_count": null,
      "outputs": [
        {
          "output_type": "stream",
          "name": "stdout",
          "text": [
            "[ 302.07684  1884.2131    155.3951   4039.9468   2265.9507    272.11343\n",
            "  481.69067   429.68655   187.2165    137.2137   4377.614    1389.3976\n",
            "  158.84799   106.3309    114.17282   290.4343    141.48137  2069.7966\n",
            " 1811.8419   3933.3848    243.84163   138.8093   1843.872     211.1048\n",
            "  455.7842    426.11966    98.54954   298.09918  1860.2815    283.90854\n",
            "  210.09538   164.89902   562.5161   1642.9376    626.83575  2624.49\n",
            " 2975.6875   1865.0327    492.8024   3434.3677   4096.9463    350.4227\n",
            " 3977.6606    153.98509   307.25162  4454.675    2082.0505   3004.3271\n",
            "  419.11914  1790.0981    690.2128    459.055     226.98058   203.4731\n",
            "  117.259    2918.852     681.1497   1211.8136    292.42117  2414.0303\n",
            "   92.16847   258.15726   872.3527    335.58942  2370.147    2836.0671\n",
            "  140.54543   238.44379   172.15338  2562.732    1803.7778    289.12405\n",
            "  529.70593    94.03179   711.6807   2790.993     515.1823    173.41864\n",
            "  139.4675    767.00977  1555.7295   1272.385     390.93652  1923.6332\n",
            " 2584.7668    341.85107  3314.045     118.459274 1785.1166    316.2102\n",
            " 2239.6956   1214.1715    196.867    1038.3702   3174.104    1621.7998\n",
            "  142.37766   107.53035   125.430275 4101.706     896.35876   419.18176\n",
            " 2344.8994   1029.4988   1834.0261   1678.9791   4274.078    3020.7424\n",
            " 2075.3438   3244.1064    169.14374  2857.7585    690.2128    107.53035\n",
            "  118.764015  446.33954  2661.944     172.49411  1101.8108   1606.6753\n",
            " 3071.5237   1797.7869   1602.7357    163.33951  2102.9956    107.53035\n",
            " 1824.6058   2357.862     527.94104    94.5593    464.9775    435.41055\n",
            " 1557.683     110.30298   115.2715    212.99673   905.3321   2210.5173\n",
            "  117.66533   522.6746    472.12357  2573.5686    223.14793  3763.6948\n",
            "  109.71433  1784.7273    189.91118   143.61345   172.37517   404.9379\n",
            "  783.5349   3079.6687   1903.9977    337.98193   201.93488  3241.9277\n",
            "  107.53035   258.4019    175.12949   706.46436   205.43813   165.96791\n",
            "  141.95119   449.79977   953.11694   454.44464   446.33954   259.4444\n",
            "  178.95303  1396.4164   3789.6409    361.61465   194.6906    534.6254\n",
            "  209.02605   226.76581  3063.3728    108.83226   138.66739    73.78788\n",
            "  125.88028   336.40497   459.5399   1921.427    1804.573     499.7115\n",
            "  446.33954   107.53035   118.764015  455.7842   1101.5168   3228.5881\n",
            "  133.1541    707.4976   1551.7041   3341.3328   1837.9961    445.81342\n",
            " 3579.4844   2196.0198    192.97449   134.19711   477.3923   2512.6133\n",
            "  409.29623   162.55327  2088.9185   3309.4004    107.53035  3090.539\n",
            "  180.21251    81.1311    421.9821    148.23366   187.35928   990.9138\n",
            "   94.054794  497.9115   1977.1194    519.4362   2833.3435    972.08484\n",
            "  864.48615   307.0747    143.07317   452.69553  1987.9303    173.15277\n",
            "  424.05655   159.398     128.75853   638.4171   2653.9438    168.335\n",
            "  195.70747   971.1741   4646.441     117.66533   201.43402   143.55525\n",
            " 1808.3359   3782.4353    197.66      106.3309    698.0794    133.03249\n",
            "  495.1913   3096.8997   1396.7003    107.53035   241.04015  4020.5269\n",
            "  154.19406   396.72626   165.51207   148.23366  3114.3372    129.88585\n",
            "  124.50495   106.3309    231.74329   272.8602    388.0203    161.77357\n",
            " 3233.9138   1908.6959    132.99428  2344.8994    687.8823    197.2613\n",
            "  396.9513   2769.4314    260.80103  4567.2715   2620.6812    186.67656\n",
            "  212.00099  3265.039    2951.0063    437.44342   135.33061   536.62335\n",
            "  132.99428  4086.5134    233.55142  2697.7754    173.0257   1719.1322\n",
            " 3445.835     163.71814   757.75836   666.38104   221.26239   103.8181\n",
            "  135.33061   765.9014    328.33508   178.65366   113.822205  134.19711\n",
            "  435.2105    220.12178  1414.9734    135.34454  2675.2256    690.9868\n",
            "  365.96564  1783.9509   2466.6472    164.17546  1243.06      390.6663\n",
            "  137.2137    491.827     396.4012    375.07925   294.82816   126.70901\n",
            " 2766.829     159.09293  1718.4442    107.53035  2104.0896    172.73302\n",
            "  478.4111    152.45166   275.29858  4078.1072    448.03418   138.32155\n",
            " 3310.936    4023.1243   2612.1963   1010.7099    347.10324   147.90585\n",
            "  938.6562    147.48656   740.0762    244.56894   793.55316   934.51935\n",
            "  216.9207   1472.981     904.1327    515.2645  ]\n"
          ]
        }
      ]
    },
    {
      "cell_type": "code",
      "source": [
        "import pandas as pd\n",
        "import numpy as np\n",
        "from statsmodels.tsa.arima.model import ARIMA\n",
        "\n",
        "# Load the dataset\n",
        "data = pd.read_csv('/content/drive/MyDrive/ETH-USD.csv', parse_dates=['Date'], index_col='Date')\n",
        "\n",
        "# Preprocess the data\n",
        "data.dropna(inplace=True)  # Drop any missing values\n",
        "closing_prices = data['Close']  # Extract the closing prices\n",
        "\n",
        "# Split the data into training and testing sets\n",
        "train_data = closing_prices[:len(closing_prices) - 30]\n",
        "test_data = closing_prices[len(closing_prices) - 30:]\n",
        "\n",
        "# Fit an ARIMA model to the training data\n",
        "model = ARIMA(train_data, order=(2, 1, 1))\n",
        "fitted_model = model.fit()\n",
        "\n",
        "# Make predictions on the testing data\n",
        "predictions = fitted_model.forecast(steps=len(test_data))[0]\n",
        "\n",
        "# Calculate the mean absolute error (MAE) of the predictions\n",
        "mae = np.mean(np.abs(predictions - test_data))\n",
        "\n",
        "print(\"Mean Absolute Error: \", mae)\n",
        "print(\"Predictions: \", predictions)\n"
      ],
      "metadata": {
        "colab": {
          "base_uri": "https://localhost:8080/"
        },
        "id": "wkS5Q_YGlja7",
        "outputId": "4ee1b158-de3c-4d2c-8811-8bfd4225c1f2"
      },
      "execution_count": null,
      "outputs": [
        {
          "output_type": "stream",
          "name": "stderr",
          "text": [
            "/usr/local/lib/python3.9/dist-packages/statsmodels/tsa/base/tsa_model.py:471: ValueWarning: No frequency information was provided, so inferred frequency D will be used.\n",
            "  self._init_dates(dates, freq)\n",
            "/usr/local/lib/python3.9/dist-packages/statsmodels/tsa/base/tsa_model.py:471: ValueWarning: No frequency information was provided, so inferred frequency D will be used.\n",
            "  self._init_dates(dates, freq)\n",
            "/usr/local/lib/python3.9/dist-packages/statsmodels/tsa/base/tsa_model.py:471: ValueWarning: No frequency information was provided, so inferred frequency D will be used.\n",
            "  self._init_dates(dates, freq)\n",
            "/usr/local/lib/python3.9/dist-packages/statsmodels/tsa/statespace/sarimax.py:966: UserWarning: Non-stationary starting autoregressive parameters found. Using zeros as starting parameters.\n",
            "  warn('Non-stationary starting autoregressive parameters'\n",
            "/usr/local/lib/python3.9/dist-packages/statsmodels/tsa/statespace/sarimax.py:978: UserWarning: Non-invertible starting MA parameters found. Using zeros as starting parameters.\n",
            "  warn('Non-invertible starting MA parameters found.'\n"
          ]
        },
        {
          "output_type": "stream",
          "name": "stdout",
          "text": [
            "Mean Absolute Error:  336.93216293770877\n",
            "Predictions:  1072.3487009953121\n"
          ]
        }
      ]
    },
    {
      "cell_type": "code",
      "source": [],
      "metadata": {
        "id": "RAONqR1tmA4r"
      },
      "execution_count": null,
      "outputs": []
    }
  ]
}