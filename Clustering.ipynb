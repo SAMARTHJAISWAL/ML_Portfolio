{
  "nbformat": 4,
  "nbformat_minor": 0,
  "metadata": {
    "colab": {
      "provenance": []
    },
    "kernelspec": {
      "name": "python3",
      "display_name": "Python 3"
    },
    "language_info": {
      "name": "python"
    }
  },
  "cells": [
    {
      "cell_type": "code",
      "execution_count": null,
      "metadata": {
        "id": "TLgMyprlUUP1"
      },
      "outputs": [],
      "source": [
        "%matplotlib inline"
      ]
    },
    {
      "cell_type": "code",
      "source": [
        "from sklearn.cluster import KMeans\n",
        "from sklearn.preprocessing import MinMaxScaler\n",
        "import plotly.express as px\n",
        "from sklearn.decomposition import PCA"
      ],
      "metadata": {
        "id": "-aHLuvAieNh_"
      },
      "execution_count": null,
      "outputs": []
    },
    {
      "cell_type": "code",
      "source": [
        "import pandas as pd\n",
        "import numpy as np"
      ],
      "metadata": {
        "id": "SBULh3NTeQ22"
      },
      "execution_count": null,
      "outputs": []
    },
    {
      "cell_type": "code",
      "source": [
        "from matplotlib import pyplot as plt"
      ],
      "metadata": {
        "id": "Ry0NKNaCeSUl"
      },
      "execution_count": null,
      "outputs": []
    },
    {
      "cell_type": "code",
      "source": [
        "wth = pd.read_csv(\"weather_dataset_final.csv\")\n",
        "wth = wth.dropna()\n"
      ],
      "metadata": {
        "id": "-1YBRBZXeXCM"
      },
      "execution_count": null,
      "outputs": []
    },
    {
      "cell_type": "code",
      "source": [
        "X = wth[['Location', 'MinTemp', 'MaxTemp', 'Rainfall','Evaporation', 'Sunshine', 'WindGustSpeed','WindSpeed9am','Humidity9am', 'Humidity3pm', 'Pressure9am','Pressure3pm', 'Cloud9am', 'Cloud3pm','Temp3pm','RainToday', 'WindDir9am', 'WindGustDir', 'WindDir3pm' ]]\n",
        "Y = wth['RainTomorrow']"
      ],
      "metadata": {
        "id": "L6v63f3IuHEI"
      },
      "execution_count": null,
      "outputs": []
    },
    {
      "cell_type": "code",
      "source": [
        "plt.scatter(wth.MinTemp, wth.MaxTemp)"
      ],
      "metadata": {
        "colab": {
          "base_uri": "https://localhost:8080/",
          "height": 285
        },
        "id": "J6Z8bcRnfyWN",
        "outputId": "e0f93cad-fc6f-4530-9ea5-073ed0cf4aed"
      },
      "execution_count": null,
      "outputs": [
        {
          "output_type": "execute_result",
          "data": {
            "text/plain": [
              "<matplotlib.collections.PathCollection at 0x7f8abb1b7ed0>"
            ]
          },
          "metadata": {},
          "execution_count": 424
        },
        {
          "output_type": "display_data",
          "data": {
            "image/png": "[encoded data removed]",
            "text/plain": [
              "<Figure size 432x288 with 1 Axes>"
            ]
          },
          "metadata": {
            "needs_background": "light"
          }
        }
      ]
    },
    {
      "cell_type": "code",
      "source": [
        "km=KMeans(n_clusters=4)\n",
        "km"
      ],
      "metadata": {
        "colab": {
          "base_uri": "https://localhost:8080/"
        },
        "id": "W1MyOd7-huJH",
        "outputId": "ad8067fa-3543-43ed-e2da-43318a70cf8e"
      },
      "execution_count": null,
      "outputs": [
        {
          "output_type": "execute_result",
          "data": {
            "text/plain": [
              "KMeans(n_clusters=4)"
            ]
          },
          "metadata": {},
          "execution_count": 425
        }
      ]
    },
    {
      "cell_type": "code",
      "source": [
        "y_pred = km.fit_predict(X)\n",
        "print(y_pred)"
      ],
      "metadata": {
        "colab": {
          "base_uri": "https://localhost:8080/"
        },
        "id": "z6nZ9BQ5Awyf",
        "outputId": "079c6838-1169-4de9-c6ab-e3a11588e088"
      },
      "execution_count": null,
      "outputs": [
        {
          "output_type": "stream",
          "name": "stdout",
          "text": [
            "[3 3 3 ... 3 3 3]\n"
          ]
        }
      ]
    },
    {
      "cell_type": "code",
      "source": [
        "#X['cluster'] = y_pred"
      ],
      "metadata": {
        "id": "vxNRq-ZunBBw"
      },
      "execution_count": null,
      "outputs": []
    },
    {
      "cell_type": "code",
      "source": [
        "from sklearn.preprocessing import StandardScaler\n",
        "\n",
        "scalar = StandardScaler()\n",
        "scalar.fit(X)\n",
        "\n",
        "\n",
        "scaled_data = scalar.transform(X)\n",
        "from sklearn.decomposition import PCA\n",
        "pca = PCA(n_components = 2)\n",
        "pca.fit(scaled_data)\n",
        "x_pca = pca.transform(scaled_data)\n",
        "\n",
        "#center = pca.fit_transform(km.cluster_centers_[:,:-1])\n",
        "\n",
        "\n",
        "\n",
        "x_pca.shape\n"
      ],
      "metadata": {
        "colab": {
          "base_uri": "https://localhost:8080/"
        },
        "id": "Fo3gcJyk6VXl",
        "outputId": "907581f7-1241-4a9f-d315-441b4906fcc0"
      },
      "execution_count": null,
      "outputs": [
        {
          "output_type": "execute_result",
          "data": {
            "text/plain": [
              "(55911, 2)"
            ]
          },
          "metadata": {},
          "execution_count": 428
        }
      ]
    },
    {
      "cell_type": "code",
      "source": [
        "#for i in range(X.shape[1]):\n",
        " # for j in range(X.shape[0]):\n",
        "  #  X[i][j] ="
      ],
      "metadata": {
        "id": "RjrC85l9CscK"
      },
      "execution_count": null,
      "outputs": []
    },
    {
      "cell_type": "code",
      "source": [
        "#scaler=MinMaxScaler()\n",
        "#scaler.fit(X)\n",
        "#x_pca=scaler.transform(X)\n",
        "#center = pca.fit_transform(km.cluster_centers_[:,:-1])"
      ],
      "metadata": {
        "id": "lfLxEha3Bwa1"
      },
      "execution_count": null,
      "outputs": []
    },
    {
      "cell_type": "code",
      "source": [
        "y_pred = km.fit_predict(x_pca)\n",
        "print(y_pred)"
      ],
      "metadata": {
        "colab": {
          "base_uri": "https://localhost:8080/"
        },
        "id": "zCsCqeY1BKal",
        "outputId": "8acdd44c-02e8-4351-ff69-0177caa4cd33"
      },
      "execution_count": null,
      "outputs": [
        {
          "output_type": "stream",
          "name": "stdout",
          "text": [
            "[3 3 3 ... 3 3 3]\n"
          ]
        }
      ]
    },
    {
      "cell_type": "code",
      "source": [
        "\n",
        "\n",
        "km.cluster_centers_"
      ],
      "metadata": {
        "colab": {
          "base_uri": "https://localhost:8080/"
        },
        "id": "lkKjt2az_ymN",
        "outputId": "ee115e14-439f-4f73-9137-4d2fe9e8f14b"
      },
      "execution_count": null,
      "outputs": [
        {
          "output_type": "execute_result",
          "data": {
            "text/plain": [
              "array([[-2.71204198, -0.50587644],\n",
              "       [ 0.08123893, -1.70635059],\n",
              "       [-0.86049101,  2.17350545],\n",
              "       [ 2.72627096,  0.2897226 ]])"
            ]
          },
          "metadata": {},
          "execution_count": 432
        }
      ]
    },
    {
      "cell_type": "code",
      "source": [
        "x_pca"
      ],
      "metadata": {
        "colab": {
          "base_uri": "https://localhost:8080/"
        },
        "id": "WnpPTM7P6sOE",
        "outputId": "e37a2cb9-cc4c-4ff7-e787-c1896d3a8a1e"
      },
      "execution_count": null,
      "outputs": [
        {
          "output_type": "execute_result",
          "data": {
            "text/plain": [
              "array([[ 4.31419813,  0.83264581],\n",
              "       [ 3.97078365, -0.68433965],\n",
              "       [ 3.69634472,  1.05610323],\n",
              "       ...,\n",
              "       [ 4.2694426 , -0.47260285],\n",
              "       [ 3.76234771, -0.53322721],\n",
              "       [ 3.6891571 , -0.82485764]])"
            ]
          },
          "metadata": {},
          "execution_count": 433
        }
      ]
    },
    {
      "cell_type": "code",
      "source": [
        "plt.figure(figsize =(8, 6))\n",
        "plt.scatter(x_pca[:, 0], x_pca[:, 1], c = y_pred)\n",
        "plt.scatter(km.cluster_centers_[:,0], km.cluster_centers_[:,1],color='black',marker='*')\n",
        "plt.xlabel('First Principal Component')\n",
        "plt.ylabel('Second Principal Component')"
      ],
      "metadata": {
        "colab": {
          "base_uri": "https://localhost:8080/",
          "height": 405
        },
        "id": "6tfjt8PX7veQ",
        "outputId": "97876adb-2839-42b8-d62f-3002f871cb56"
      },
      "execution_count": null,
      "outputs": [
        {
          "output_type": "execute_result",
          "data": {
            "text/plain": [
              "Text(0, 0.5, 'Second Principal Component')"
            ]
          },
          "metadata": {},
          "execution_count": 434
        },
        {
          "output_type": "display_data",
          "data": {
            "image/png": "[encoded data removed]",
            "text/plain": [
              "<Figure size 576x432 with 1 Axes>"
            ]
          },
          "metadata": {
            "needs_background": "light"
          }
        }
      ]
    },
    {
      "cell_type": "code",
      "source": [
        "#pca = PCA(n_components = 2)\n",
        "#pca.fit(scaled_data)\n",
        "#X_pca = pca.transform(scaled_data)\n",
        "\n",
        "#X_pca.shape"
      ],
      "metadata": {
        "id": "TalGFGsj6E4A"
      },
      "execution_count": null,
      "outputs": []
    },
    {
      "cell_type": "code",
      "source": [
        "\n",
        "#pca = PCA(n_components=2)\n",
        "#components = pca.fit_transform(X[:,:-1])\n",
        "\n",
        "#print(components)\n",
        "#plt.scatter(components[:,0],components[:,1],c=y_predicted)\n",
        "#plt.scatter(km.cluster_centers_[:,0],km.cluster_centers_[:,1],color='blue',marker='+')\n",
        "\n",
        "#plt.show()"
      ],
      "metadata": {
        "id": "CzQBs_Uu1Y7A"
      },
      "execution_count": null,
      "outputs": []
    },
    {
      "cell_type": "code",
      "source": [
        "#X1 = X[X.cluster == 0]\n",
        "#X2 = X[X.cluster == 1]\n",
        "#X3 = X[X.cluster == 2]\n",
        "#plt.scatter(X1.MinTemp, X.MaxTemp)\n",
        "#plt.scatter(X2.MinTemp, X2.MaxTemp)"
      ],
      "metadata": {
        "id": "me6Lew9nnbQN"
      },
      "execution_count": null,
      "outputs": []
    },
    {
      "cell_type": "code",
      "source": [
        "km.cluster_centers_"
      ],
      "metadata": {
        "colab": {
          "base_uri": "https://localhost:8080/"
        },
        "id": "wksvbGZOsdAT",
        "outputId": "158fffc1-00e5-4f10-c620-736ae0a501ce"
      },
      "execution_count": null,
      "outputs": [
        {
          "output_type": "execute_result",
          "data": {
            "text/plain": [
              "array([[ 2.71342443,  0.31558164],\n",
              "       [-2.69999747, -0.60658948],\n",
              "       [-0.94190078,  2.1600953 ],\n",
              "       [ 0.11860001, -1.68527943]])"
            ]
          },
          "metadata": {},
          "execution_count": 411
        }
      ]
    },
    {
      "cell_type": "code",
      "source": [
        "sse = []\n",
        "k_rng = range(1,10)\n",
        "for k in k_rng:\n",
        "    km = KMeans(n_clusters=k)\n",
        "    km.fit(X)\n",
        "    sse.append(km.inertia_)\n"
      ],
      "metadata": {
        "id": "B4DnSiEj7St7"
      },
      "execution_count": null,
      "outputs": []
    },
    {
      "cell_type": "code",
      "source": [
        "plt.xlabel('K')\n",
        "plt.ylabel('Sum of squared error')\n",
        "plt.plot(k_rng,sse)"
      ],
      "metadata": {
        "colab": {
          "base_uri": "https://localhost:8080/",
          "height": 307
        },
        "id": "HoiRrTFFE4K6",
        "outputId": "7b36da3b-841b-4a66-a8a9-77b280bbbb77"
      },
      "execution_count": null,
      "outputs": [
        {
          "output_type": "execute_result",
          "data": {
            "text/plain": [
              "[<matplotlib.lines.Line2D at 0x7f8abc254910>]"
            ]
          },
          "metadata": {},
          "execution_count": 396
        },
        {
          "output_type": "display_data",
          "data": {
            "image/png": "[encoded data removed]",
            "text/plain": [
              "<Figure size 432x288 with 1 Axes>"
            ]
          },
          "metadata": {
            "needs_background": "light"
          }
        }
      ]
    },
    {
      "cell_type": "code",
      "source": [],
      "metadata": {
        "id": "uj7vsHU7FAVF"
      },
      "execution_count": null,
      "outputs": []
    }
  ]
}